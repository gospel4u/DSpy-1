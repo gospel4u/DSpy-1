{
 "cells": [
  {
   "cell_type": "markdown",
   "metadata": {},
   "source": [
    "\n",
    "Algorithms + Data Structures = Programs\n",
    "— Niklaus Wirth\n",
    "\n",
    "\n",
    "#  Structures in Python\n",
    "Data structures provide us with a specific and way of storing and organizing data such that they can be easily accessed and worked with efficiently. In this article, you will learn about the various Python data structures and how they are implemented.\n",
    "\n",
    "Broadly speaking, data structures can be classified into two types – primitive and non-primitive. The former is the basic way of representing data which contain simple values. The latter is a more advanced and a complex way off representing data that contain a collection of values in various formats.\n",
    "\n",
    "Non primitive data structures can further be categorized into built-in and user defined structures. Python offers implicit support for built in structures that include List, Tuple, Set and Dictionary. Users can also create their own data structures (like Stack, Tree, Queue, etc.) enabling them to have a full control over their functionality.\n"
   ]
  },
  {
   "cell_type": "markdown",
   "metadata": {},
   "source": [
    "<img src=\"https://github.com/idebtor/JoyDSx/blob/main/images/ai4all-graph1.png?raw=true\"  width=\"400\">\n",
    "<center>그림 1: Data Structures </center>\n"
   ]
  },
  {
   "cell_type": "markdown",
   "metadata": {},
   "source": [
    "\n",
    "<img src=\"https://github.com/idebtor/KMOOC-ML/blob/master/ipynb/images/ai4all-graph1.png?raw=true\" width=\"400\">\n",
    "<center>그림 1: 일차 함수 그래프의 기울기와 절편 </center>"
   ]
  },
  {
   "cell_type": "markdown",
   "metadata": {},
   "source": [
    "# Stack\n",
    "\n",
    "Unlike an array structure, which allows random access at all the positions, a stack limits the inserting and removing operation to only one side of the data sequence. A stack follows the last in, first out (LIFO) principle.\n",
    "\n",
    "In Python, stack can be implemented using a list. To follow the LIFO principle, inserting and removing operations both occur at the tail of the list."
   ]
  },
  {
   "cell_type": "code",
   "execution_count": null,
   "metadata": {},
   "outputs": [],
   "source": [
    "class stack:\n",
    "    # by default pass in [] as inivial value\n",
    "    def __init__(self,initialVal=[]):\n",
    "        self.stack = initialVal\n",
    "  \n",
    "    # push is to append to the tail of the list\n",
    "    def push(self,ele):\n",
    "        self.stack.append(ele)\n",
    "        return self.stack\n",
    "  \n",
    "    # pop is to remove from the tail of the list\n",
    "    def pop(self):\n",
    "        return self.stack.pop(-1)\n",
    "\n",
    "    def checkStack(self):\n",
    "        print(self.stack)\n",
    "\n",
    "    def checkTop(self):\n",
    "        print(self.stack[-1])"
   ]
  },
  {
   "cell_type": "markdown",
   "metadata": {},
   "source": [
    "# Queue\n",
    "\n",
    "Similar to a stack, the queue also limits the position for inserting and removing am operation on a sequence of data. However, unlike a stack, a queue follows the first in, first out (FIFO) principle.\n",
    "In Python, a queue can also be implemented using a list. To follow the FIFO principle, the inserting operation occurs at the tail of the list, while the removing operation occurs at the head of the list."
   ]
  },
  {
   "cell_type": "code",
   "execution_count": null,
   "metadata": {},
   "outputs": [],
   "source": [
    "class queue:\n",
    "    # by default pass in [] as inivial value\n",
    "    def __init__(self,initialVal=[]):\n",
    "        self.queue = initialVal\n",
    "\n",
    "    # enqueue is to append to the tail of the list\n",
    "    def enqueue(self,ele):\n",
    "        self.queue.append(ele)\n",
    "        return self.queue\n",
    "\n",
    "    # dequeue is to remove from the head of the list\n",
    "    def dequeue(self):\n",
    "        return self.queue.pop(0)\n",
    "\n",
    "    def checkQueue(self):\n",
    "        print(self.queue)\n",
    "\n",
    "    def checkHead(self):\n",
    "        print(self.queue[0])\n",
    "\n",
    "    def checkTail(self):\n",
    "        print(self.queue[-1])"
   ]
  },
  {
   "cell_type": "markdown",
   "metadata": {},
   "source": [
    "# Set\n",
    "\n",
    "Sets are an unordered collection of unique elements. Sets are mutable but can hold only unique values in the dataset. Set operations are similar to the ones used in arithmetic. It’s one of Python’s built-in types and allows the dynamic adding and removing of elements, iteration, and operations with another set objects\n",
    "\n",
    "```\n",
    ".add() - add an element if it does not exist in the set\n",
    ".union() — combines data in both sets\n",
    ".intersection() — outputs data common to both sets\n",
    ".difference() — deletes the data present in both and outputs data present only in the set passed.\n",
    ".symmetricdifference() — deletes the data present in both and outputs the data which is remaining in both sets.\n",
    "```"
   ]
  },
  {
   "cell_type": "code",
   "execution_count": null,
   "metadata": {},
   "outputs": [],
   "source": [
    "# set initialization by passing in a list\n",
    "myset = set([1,2,3,3,3])\n",
    "\n",
    "# set initialization using {}\n",
    "myset = {1,2,3,3,3}\n",
    "\n",
    "# iteration of set\n",
    "for ele in myset:\n",
    "    print(ele)\n",
    "\n",
    "# check if ele in set:\n",
    "print(True if ele in myset else False)\n",
    "\n",
    "# add an element to set:\n",
    "myset.add(ele)\n",
    "\n",
    "# remove an element from set\n",
    "myset.remove(ele)\n",
    "\n",
    "# get length of the set\n",
    "print(len(myset))"
   ]
  },
  {
   "cell_type": "code",
   "execution_count": 1,
   "metadata": {},
   "outputs": [],
   "source": [
    "myset1 = {1,2,3}\n",
    "myset2 = {1,2,4,5}\n",
    "\n",
    "# union\n",
    "myset = myset1.union(myset2)\n",
    "\n",
    "# intersection\n",
    "myset = myset1.intersection(myset2)\n",
    "\n",
    "# difference\n",
    "myset = myset1.difference(myset2)"
   ]
  },
  {
   "cell_type": "markdown",
   "metadata": {},
   "source": [
    "# Dictionary\n",
    "\n",
    "A dictionary contains mapping information of (key, value) pairs. Given a key, the corresponding value can be found in the dictionary. It’s also one of Python’s built-in types. The (key, value) pairs can be dynamically added, removed, and modified. A dictionary also allows iteration through the keys, values, and (key, value) pairs.\n",
    "If you are looking to implement something like a telephone book, a dictionary is what you need. Dictionaries basically store ‘key-value’ pairs. In a phone directory, you’ll have Phone and Name as keys and the various names and numbers assigned are the values."
   ]
  },
  {
   "cell_type": "code",
   "execution_count": null,
   "metadata": {},
   "outputs": [],
   "source": [
    "# dictionary initialization using {}\n",
    "mydict = {'a':1,'b':2}\n",
    "\n",
    "# add new (key,value) pair\n",
    "mydict['c'] = 3\n",
    "\n",
    "# modify existing (key,value) pair\n",
    "mydict['a'] = 5\n",
    "\n",
    "# remove (key,value) pair\n",
    "mydict.pop('a')\n",
    "\n",
    "# get length of the dictionary\n",
    "print(len(mydict))\n",
    "\n",
    "# iteration through keys\n",
    "for key in mydict.keys():\n",
    "    print(key)\n",
    "\n",
    "# iteration through values\n",
    "for value in mydict.values():\n",
    "    print(value)\n",
    "\n",
    "# iteration through (key,value) pairs\n",
    "for key,value in mydict.items():\n",
    "    print(key,value)"
   ]
  },
  {
   "cell_type": "markdown",
   "metadata": {},
   "source": [
    "# Linked List\n",
    "\n",
    "A linked list is a linear data structure, with the previous node pointing to the next node. It can be implemented by defining a ListNode class."
   ]
  },
  {
   "cell_type": "code",
   "execution_count": null,
   "metadata": {},
   "outputs": [],
   "source": [
    "class ListNode:\n",
    "    def _init_(self,val):\n",
    "        self.val = val\n",
    "        self.next = None\n",
    "\n",
    "# initiation of linked list\n",
    "headNode = ListNode(1)\n",
    "secondNode = ListNode(2)\n",
    "thirdNode = ListNode(3)\n",
    "\n",
    "headNode.next = secondNode\n",
    "secondNode.next = thirdNode\n",
    "\n",
    "# iterate through the linked list\n",
    "curNode = headNode\n",
    "while curNode:\n",
    "    print(curNode.val)\n",
    "    curNode = curNode.next\n",
    "\n",
    "# insert new listnode with value of 5 in between the secondNode and thirdNode\n",
    "curNode = headNode\n",
    "while curNode.val != 2:\n",
    "    curNode = curNode.next\n",
    "newNode = ListNode(5)\n",
    "newNode.next = curNode.next\n",
    "curNode.next = newNode\n",
    "\n",
    "# remove the listnode with value of 5\n",
    "curNode = headNode\n",
    "while curNode.next.val != 5:\n",
    "    curNode = curNode.next\n",
    "    curNode.next = curNode.next.next\n"
   ]
  },
  {
   "cell_type": "markdown",
   "metadata": {},
   "source": [
    "# Tree\n",
    "\n",
    "Tree is a nonlinear data structure and allows different transversal ways. Here, the implementation of inorder, preorder, and postorder transversal is provided."
   ]
  },
  {
   "cell_type": "code",
   "execution_count": 2,
   "metadata": {},
   "outputs": [
    {
     "name": "stdout",
     "output_type": "stream",
     "text": [
      "inorder:  [2, 1, 3]\n",
      "preorder:  [1, 2, 3]\n",
      "postorder:  [2, 3, 1]\n"
     ]
    }
   ],
   "source": [
    "class TreeNode:\n",
    "    def __init__(self, val):\n",
    "        self.val = val\n",
    "        self.left = None\n",
    "        self.right = None\n",
    "\n",
    "# initialization of a tree\n",
    "rootNode = TreeNode(1)\n",
    "leftNode = TreeNode(2)\n",
    "rightNode = TreeNode(3)\n",
    "\n",
    "rootNode.left = leftNode\n",
    "rootNode.right = rightNode\n",
    "\n",
    "# inorderTraversal of the tree (Left, Root, Right)\n",
    "def inorderTraversal(root):\n",
    "    result = []\n",
    "  \n",
    "    if not root:\n",
    "        return self.result\n",
    "  \n",
    "    def df(node: TreeNode):\n",
    "        if not node:\n",
    "            return\n",
    "        df(node.left)\n",
    "        result.append(node.val)\n",
    "        df(node.right)\n",
    "  \n",
    "    df(root)\n",
    "    return result\n",
    "\n",
    "# preorderTraversal of the tree (Root, Left, Right)\n",
    "def preorderTraversal(root):\n",
    "    result = []\n",
    "  \n",
    "    if not root:\n",
    "        return result\n",
    "  \n",
    "    def df(node: TreeNode):\n",
    "        if not node:\n",
    "            return\n",
    "        result.append(node.val)\n",
    "        df(node.left)\n",
    "        df(node.right)\n",
    "  \n",
    "    df(root)\n",
    "    return result\n",
    "\n",
    "# postorderTraversal of the tree (Left, Right, Root)\n",
    "def postorderTraversal(root):\n",
    "    result = []\n",
    "  \n",
    "    if not root:\n",
    "        return result\n",
    "  \n",
    "    def df(node: TreeNode):\n",
    "        if not node:\n",
    "            return\n",
    "        df(node.left)\n",
    "        df(node.right)\n",
    "        result.append(node.val)\n",
    "  \n",
    "    df(root)\n",
    "    return result\n",
    "\n",
    "\n",
    "print('inorder: ', inorderTraversal(rootNode))\n",
    "print('preorder: ', preorderTraversal(rootNode))\n",
    "print('postorder: ', postorderTraversal(rootNode))"
   ]
  },
  {
   "cell_type": "code",
   "execution_count": null,
   "metadata": {},
   "outputs": [],
   "source": []
  },
  {
   "cell_type": "code",
   "execution_count": null,
   "metadata": {},
   "outputs": [],
   "source": []
  },
  {
   "cell_type": "code",
   "execution_count": null,
   "metadata": {},
   "outputs": [],
   "source": []
  },
  {
   "cell_type": "markdown",
   "metadata": {},
   "source": [
    "# References\n",
    "\n",
    "- [Data Structures in Python— A Brief Introduction](https://towardsdatascience.com/data-structures-in-python-a-brief-introduction-b4135d7a9b7d)"
   ]
  },
  {
   "cell_type": "code",
   "execution_count": null,
   "metadata": {},
   "outputs": [],
   "source": []
  },
  {
   "cell_type": "code",
   "execution_count": null,
   "metadata": {},
   "outputs": [],
   "source": []
  }
 ],
 "metadata": {
  "kernelspec": {
   "display_name": "Python 3",
   "language": "python",
   "name": "python3"
  },
  "language_info": {
   "codemirror_mode": {
    "name": "ipython",
    "version": 3
   },
   "file_extension": ".py",
   "mimetype": "text/x-python",
   "name": "python",
   "nbconvert_exporter": "python",
   "pygments_lexer": "ipython3",
   "version": "3.7.7"
  }
 },
 "nbformat": 4,
 "nbformat_minor": 4
}
